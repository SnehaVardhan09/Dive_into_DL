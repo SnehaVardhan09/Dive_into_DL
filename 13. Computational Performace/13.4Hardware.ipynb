{
 "cells": [
  {
   "cell_type": "markdown",
   "metadata": {},
   "source": [
    "* Building systems with great performance requires a good understanding of the algorithms and models to capture the statistical aspects of the problem.\n",
    "*  "
   ]
  }
 ],
 "metadata": {
  "language_info": {
   "name": "python"
  }
 },
 "nbformat": 4,
 "nbformat_minor": 2
}
