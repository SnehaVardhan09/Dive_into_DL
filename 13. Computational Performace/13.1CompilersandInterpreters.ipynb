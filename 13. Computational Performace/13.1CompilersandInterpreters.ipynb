{
 "cells": [
  {
   "cell_type": "markdown",
   "metadata": {},
   "source": [
    "### **Imperative programming**"
   ]
  },
  {
   "cell_type": "markdown",
   "metadata": {},
   "source": [
    "-> So far, we focused on Imperative programming. which makes use of statements such as `print`, `+ `and `if` to change a program' state"
   ]
  },
  {
   "cell_type": "code",
   "execution_count": 1,
   "metadata": {},
   "outputs": [
    {
     "name": "stdout",
     "output_type": "stream",
     "text": [
      "31\n"
     ]
    }
   ],
   "source": [
    "def add(a, b):\n",
    "    return a+b\n",
    "\n",
    "def fancy_func(a, b, c, d):\n",
    "    e= add(a, b)\n",
    "    f= add(c, d)\n",
    "    g= add(e, f)\n",
    "    return g\n",
    "\n",
    "print(fancy_func(3,6,9,13))"
   ]
  },
  {
   "attachments": {
    "image.png": {
     "image/png": "[encoded data removed]"
    }
   },
   "cell_type": "markdown",
   "metadata": {},
   "source": [
    "-> Python - `Interpreted` language, the above funct performs the op making up the functions body `in sequence`. <br>\n",
    "-> ![image.png](attachment:image.png) <br>\n",
    "-> Imperative programming is convinient, it may be inefficient. <br>\n",
    "-> `add` func is repeatedly called. Python will execute the 3 func invidually. <br>\n",
    "-> If these are executed on GPU, the overhead arising from the python interpreter can become overwhelming.<br>\n",
    "-> the variable e, f needs to be saved untill the func have been executed."
   ]
  },
  {
   "cell_type": "markdown",
   "metadata": {},
   "source": [
    "### **Symbolic Programming**"
   ]
  },
  {
   "cell_type": "markdown",
   "metadata": {},
   "source": [
    "-> Consider symbolic programming, where computation is usually performed `only once` the process has been `fully defined`. <br>\n",
    "-> Usually involves the following steps.<br>\n",
    " 1. Define the operations to be executed.<br>\n",
    " 2. Compile the op into an executable program. <br>\n",
    " 3. Provide the req i/p's and call the compiled progrom for execution\n",
    " "
   ]
  },
  {
   "cell_type": "code",
   "execution_count": 4,
   "metadata": {},
   "outputs": [
    {
     "name": "stdout",
     "output_type": "stream",
     "text": [
      "\n",
      "def add(a, b):\n",
      "    return a + b\n",
      "\n",
      "def fancy_func(a, b, c, d):\n",
      "    e = add(a, b)\n",
      "    f = add(c, d)\n",
      "    g = add(e, f)\n",
      "    return g\n",
      "print(fancy_func(1, 2, 3, 4))\n",
      "----------\n",
      "10\n"
     ]
    }
   ],
   "source": [
    "def add_():\n",
    "    return '''\n",
    "def add(a, b):\n",
    "    return a + b\n",
    "'''\n",
    "\n",
    "def fancy_func_():\n",
    "    return '''\n",
    "def fancy_func(a, b, c, d):\n",
    "    e = add(a, b)\n",
    "    f = add(c, d)\n",
    "    g = add(e, f)\n",
    "    return g\n",
    "'''\n",
    "\n",
    "def evoke_():\n",
    "    return add_() + fancy_func_() + 'print(fancy_func(1, 2, 3, 4))'\n",
    "\n",
    "prog = evoke_()\n",
    "print(prog)\n",
    "\n",
    "\n",
    "# compile(source, filename, mode)\n",
    "# SOURCE (a normal string, a byte string, an AST object) ,\n",
    "# FILENAME (file from which code is to be read), \n",
    "# MODE - exec(can take a code block with statements, class and functions)/ eval(accepts single expression)/ single(has a single interactive statement)\n",
    "y = compile(prog, '', 'exec') \n",
    "\n",
    "#exec dynamic execution of python programs which can either be string or object code\n",
    "exec(y)"
   ]
  },
  {
   "cell_type": "markdown",
   "metadata": {},
   "source": [
    "-> Symbolic Programming is more efficient and easier to port. Makes it easier to optimize the code during compilation, while also having the ability to port the programm <br>\n",
    "   into a format independent of python. <br>\n",
    "-> This allows the program to be run in a non-python environment, thus avoiding any potential performance issues related to the python interpreter"
   ]
  },
  {
   "cell_type": "markdown",
   "metadata": {},
   "source": [
    "### **Hybrid Programming**"
   ]
  },
  {
   "cell_type": "markdown",
   "metadata": {},
   "source": [
    "1. Most DL frameworks choose between imperative or a symbolic approach. \n",
    "2. for e.g. **Theano, TensorFlow, Keras, CNTK formulate models symbolically**. **Pytorch, Chainer are an imperative approach.**\n"
   ]
  },
  {
   "cell_type": "markdown",
   "metadata": {},
   "source": [
    "### **Hybridizing the Sequential Class**"
   ]
  },
  {
   "cell_type": "markdown",
   "metadata": {},
   "source": [
    "1. Easiest way to get a feel for how hybridization works is to consider deep n/w with multiple layers.\n",
    "2. Conventionally the python interpreter will need to execute the code for all layers to generate an instruction that can then be forwarded to CPU or a GPU.\n",
    "3. For a single computing device this does not cause any major issues.\n",
    "4. On the other hand, if we use an advanced 8-GPU server instance the python will struggle to keep all the GPUs busy. \n",
    "5. the single-threaded python interpreter becomes the bottle neck here. <br>\n",
    "*replacing Sequential with HybridSequencial. we begin by defining a simple MLP*"
   ]
  },
  {
   "cell_type": "code",
   "execution_count": 7,
   "metadata": {},
   "outputs": [
    {
     "data": {
      "text/plain": [
       "tensor([[0.0817, 0.0255]], grad_fn=<AddmmBackward0>)"
      ]
     },
     "execution_count": 7,
     "metadata": {},
     "output_type": "execute_result"
    }
   ],
   "source": [
    "import torch\n",
    "from torch import nn\n",
    "from d2l import torch as d2l\n",
    "\n",
    "def get_net():\n",
    "    net=nn.Sequential(nn.Linear(512, 256), nn.ReLU(),\n",
    "                      nn.Linear(256, 128), nn.ReLU(),\n",
    "                      nn.Linear(128, 2))\n",
    "    return net \n",
    "\n",
    "x = torch.rand(size=(1, 512))\n",
    "net= get_net()\n",
    "net(x)"
   ]
  },
  {
   "cell_type": "markdown",
   "metadata": {},
   "source": [
    "Converting the model using `torch.jit.script` function, we are able to compile and optimize the computation in the MLP. The models computation results remain unchanged <br>\n",
    "*jit -> just-in-time*"
   ]
  },
  {
   "cell_type": "code",
   "execution_count": 8,
   "metadata": {},
   "outputs": [
    {
     "data": {
      "text/plain": [
       "tensor([[0.0817, 0.0255]], grad_fn=<AddmmBackward0>)"
      ]
     },
     "execution_count": 8,
     "metadata": {},
     "output_type": "execute_result"
    }
   ],
   "source": [
    "net = torch.jit.script(net)\n",
    "net(x)"
   ]
  },
  {
   "cell_type": "markdown",
   "metadata": {},
   "source": [
    "Network is Optimized (Benchmark below)"
   ]
  },
  {
   "cell_type": "markdown",
   "metadata": {},
   "source": [
    "### **Acceleration by Hybridization**"
   ]
  },
  {
   "cell_type": "markdown",
   "metadata": {},
   "source": [
    " To demo the perf improvment gained by compilation we compare the time needed to evalute net(x) before and after hybridization."
   ]
  },
  {
   "cell_type": "code",
   "execution_count": 9,
   "metadata": {},
   "outputs": [],
   "source": [
    "#@save\n",
    "class Benchmark:\n",
    "\n",
    "    def __init__(self, description=\"Done\"):\n",
    "        self.description= description\n",
    "\n",
    "    def __enter__(self):\n",
    "        self.timer = d2l.Timer()\n",
    "        return self\n",
    "    \n",
    "    def __exit__(self, *args):\n",
    "        print(f'{self.description}: {self.timer.stop():.4f} sec')"
   ]
  },
  {
   "cell_type": "code",
   "execution_count": 10,
   "metadata": {},
   "outputs": [
    {
     "name": "stdout",
     "output_type": "stream",
     "text": [
      "without torchscript: 0.2110 sec\n",
      "with torchscript: 0.1140 sec\n"
     ]
    }
   ],
   "source": [
    "# invoking the network twice, once with and witout torchscript\n",
    "\n",
    "net= get_net()\n",
    "with Benchmark('without torchscript'):\n",
    "    for i in range(1000): net(x)\n",
    "\n",
    "net= torch.jit.script(net)\n",
    "with Benchmark('with torchscript'):\n",
    "    for i in range(1000): net(x)"
   ]
  },
  {
   "cell_type": "markdown",
   "metadata": {},
   "source": [
    "After nn.Sequential instance is scripted usng the torch.jit.script function, computing performance is improved through the use of symbolic programming."
   ]
  },
  {
   "cell_type": "markdown",
   "metadata": {},
   "source": [
    "### **Serialization**"
   ]
  },
  {
   "cell_type": "markdown",
   "metadata": {},
   "source": [
    "1. Benefit of compiling the models is that we can ***serialize(save)*** the model and its parameters to disk. \n",
    "2. Allows to store the model in a manner that is independent of the front-end language of choice.\n",
    "3. This allows us to deploy trained models to other devices and easily use other front-end programming languages.\n"
   ]
  },
  {
   "cell_type": "code",
   "execution_count": 11,
   "metadata": {},
   "outputs": [
    {
     "name": "stderr",
     "output_type": "stream",
     "text": [
      "'ls' is not recognized as an internal or external command,\n",
      "operable program or batch file.\n"
     ]
    }
   ],
   "source": [
    "net.save('my_mlp')\n",
    "!ls -lh my_mlp*"
   ]
  },
  {
   "cell_type": "markdown",
   "metadata": {},
   "source": [
    "1. Imperative programming makes it easy to desing new models since it is possible to write code with control flow and the ability to use a large amount of the python software ecosystem.\n",
    "2. Symbolic programming requires that *we specify the program and compile it* befor executing it. Benefits is improved performance."
   ]
  },
  {
   "cell_type": "code",
   "execution_count": null,
   "metadata": {},
   "outputs": [],
   "source": []
  }
 ],
 "metadata": {
  "kernelspec": {
   "display_name": "ml",
   "language": "python",
   "name": "python3"
  },
  "language_info": {
   "codemirror_mode": {
    "name": "ipython",
    "version": 3
   },
   "file_extension": ".py",
   "mimetype": "text/x-python",
   "name": "python",
   "nbconvert_exporter": "python",
   "pygments_lexer": "ipython3",
   "version": "3.9.18"
  }
 },
 "nbformat": 4,
 "nbformat_minor": 2
}
