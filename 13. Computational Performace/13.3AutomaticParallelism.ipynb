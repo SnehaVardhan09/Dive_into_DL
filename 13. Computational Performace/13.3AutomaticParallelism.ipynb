{
 "cells": [
  {
   "cell_type": "markdown",
   "metadata": {},
   "source": [
    "* DL Frameworks(Pytorch, MXNet) automatically construct Computational graphs at the backend.\n",
    "* Using CG, system aware of all dependencies, and can selectively execute multiple non-interdependent tasks in parallel to improve speed.\n",
    "* Auto parallel computation focuses on parallel computation using both CPUs and GPUs, as well as the parallelization of computation and communication."
   ]
  },
  {
   "cell_type": "markdown",
   "metadata": {},
   "source": [
    "*** Note that we need at least two GPUs to run the experiments in this section.***\n",
    "\n"
   ]
  },
  {
   "cell_type": "code",
   "execution_count": null,
   "metadata": {},
   "outputs": [],
   "source": []
  }
 ],
 "metadata": {
  "language_info": {
   "name": "python"
  }
 },
 "nbformat": 4,
 "nbformat_minor": 2
}
